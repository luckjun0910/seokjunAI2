{
  "nbformat": 4,
  "nbformat_minor": 0,
  "metadata": {
    "colab": {
      "provenance": [],
      "authorship_tag": "ABX9TyNScSW9YGdqFvnzzrI1KV9n",
      "include_colab_link": true
    },
    "kernelspec": {
      "name": "python3",
      "display_name": "Python 3"
    },
    "language_info": {
      "name": "python"
    }
  },
  "cells": [
    {
      "cell_type": "markdown",
      "metadata": {
        "id": "view-in-github",
        "colab_type": "text"
      },
      "source": [
        "<a href=\"https://colab.research.google.com/github/luckjun0910/seokjunAI2/blob/main/img_classification.ipynb\" target=\"_parent\"><img src=\"https://colab.research.google.com/assets/colab-badge.svg\" alt=\"Open In Colab\"/></a>"
      ]
    },
    {
      "cell_type": "code",
      "execution_count": 1,
      "metadata": {
        "colab": {
          "base_uri": "https://localhost:8080/"
        },
        "id": "ZYzD6-k06A3D",
        "outputId": "02e4a2c3-aee4-4fb8-a119-61aa971db13c"
      },
      "outputs": [
        {
          "output_type": "stream",
          "name": "stdout",
          "text": [
            "Collecting bing-image-downloader\n",
            "  Downloading bing_image_downloader-1.1.2-py3-none-any.whl (5.9 kB)\n",
            "Installing collected packages: bing-image-downloader\n",
            "Successfully installed bing-image-downloader-1.1.2\n"
          ]
        }
      ],
      "source": [
        "!pip install bing-image-downloader"
      ]
    },
    {
      "cell_type": "code",
      "source": [
        "from bing_image_downloader import downloader # bing_image_downloader 모듈에서 downloader를 가져옴\n",
        "\n",
        "from pathlib import Path # pathlib 모듈에서 Path를 가져옴\n",
        "\n",
        "\n",
        "def download_images(keyword, num_images, file_name):\n",
        "\n",
        "    output_directory = \"images\" # 이미지를 저장할 폴더 이름\n",
        "\n",
        "\n",
        "\n",
        "    downloader.download(keyword, limit=num_images, output_dir=output_directory, adult_filter_off=True, force_replace=False, timeout=60)\n",
        "    # 이미지 다운로드\n",
        "\n",
        "\n",
        "\n",
        "    root = Path().cwd() / output_directory # 이미지 저장 폴더의 경로\n",
        "\n",
        "    downloaded_files = list(root.glob(\"*.*\")) # 폴더 내 모든 파일 가져오기\n",
        "\n",
        "    for i, file in enumerate(downloaded_files): # 다운로드된 각 파일에 대해 반복\n",
        "\n",
        "        extension = file.suffix # 파일 확장자\n",
        "\n",
        "        new_file_name = f\"{file_name}{i+1}{extension}\" # 새로운 파일 이름\n",
        "\n",
        "        new_file_path = root / new_file_name # 새로운 파일 경로\n",
        "\n",
        "        file.rename(new_file_path) # 파일 이름 변경"
      ],
      "metadata": {
        "id": "6cF59N6y7EUE"
      },
      "execution_count": 2,
      "outputs": []
    },
    {
      "cell_type": "code",
      "source": [
        "# 사용 예시\n",
        "\n",
        "keyword = \"사과\" # 이미지 검색 키워드\n",
        "\n",
        "num_images = 30 # 다운로드할 이미지 수\n",
        "\n",
        "file_name = \"사과\" # 파일 이름\n"
      ],
      "metadata": {
        "id": "MZCnPF777SQM"
      },
      "execution_count": 4,
      "outputs": []
    },
    {
      "cell_type": "code",
      "source": [
        "from google.colab import drive\n",
        "drive.mount('/content/drive')\n"
      ],
      "metadata": {
        "colab": {
          "base_uri": "https://localhost:8080/"
        },
        "id": "pxhrxY5U7fvM",
        "outputId": "34dc6149-402b-4ba9-d63a-285a0007ed0b"
      },
      "execution_count": 5,
      "outputs": [
        {
          "output_type": "stream",
          "name": "stdout",
          "text": [
            "Mounted at /content/drive\n"
          ]
        }
      ]
    },
    {
      "cell_type": "code",
      "source": [
        "download_images(keyword, num_images, file_name) # 이미지 다운로드\n"
      ],
      "metadata": {
        "colab": {
          "base_uri": "https://localhost:8080/"
        },
        "id": "_WyPPpoH7pnz",
        "outputId": "cf9f44d5-ea23-49f3-cda6-d0cfd2d7645b"
      },
      "execution_count": 6,
      "outputs": [
        {
          "output_type": "stream",
          "name": "stdout",
          "text": [
            "[%] Downloading Images to /content/images/사과\n",
            "\n",
            "\n",
            "[!!]Indexing page: 1\n",
            "\n",
            "[%] Indexed 30 Images on Page 1.\n",
            "\n",
            "===============================================\n",
            "\n",
            "[%] Downloading Image #1 from https://cdn.pixabay.com/photo/2016/09/20/07/25/food-1681977_1280.png\n",
            "[%] File Downloaded !\n",
            "\n",
            "[%] Downloading Image #2 from https://png.pngtree.com/png-clipart/20201209/original/pngtree-apple-png-image_5635847.jpg\n",
            "[%] File Downloaded !\n",
            "\n",
            "[%] Downloading Image #3 from http://2.bp.blogspot.com/-hdkXfWeRV4A/TdizZhkLhhI/AAAAAAAAHUA/GlC3S4HL8vE/s1600/139865_1.jpg\n",
            "[%] File Downloaded !\n",
            "\n",
            "[%] Downloading Image #4 from https://png.pngtree.com/png-clipart/20190705/original/pngtree-illustration-hand-drawn-red-apple-fruit-material-ai-vector-fruit-element-png-image_4367497.jpg\n",
            "[%] File Downloaded !\n",
            "\n",
            "[%] Downloading Image #5 from https://www.costco.co.kr/medias/sys_master/images/h9d/h20/121246995578910.jpg\n",
            "[!] Issue getting: https://www.costco.co.kr/medias/sys_master/images/h9d/h20/121246995578910.jpg\n",
            "[!] Error:: The read operation timed out\n",
            "[%] Downloading Image #5 from http://3.bp.blogspot.com/-b5EWHmXZYLQ/Te6mu2GZZkI/AAAAAAAAABw/fIVuysZg720/s1600/apple.jpg\n",
            "[%] File Downloaded !\n",
            "\n",
            "[%] Downloading Image #6 from https://get.pxhere.com/photo/apple-plant-fruit-food-produce-fruits-apples-flowering-plant-rose-family-land-plant-rose-order-1169843.jpg\n",
            "[%] File Downloaded !\n",
            "\n",
            "[%] Downloading Image #7 from https://minio.nculture.org/amsweb-opt/multimedia_assets/99/24257/11664/c/24257-medium-size.jpg\n",
            "[%] File Downloaded !\n",
            "\n",
            "[%] Downloading Image #8 from https://shop.biumfood.com/upload/1535360125_5132577.jpg\n",
            "[%] File Downloaded !\n",
            "\n",
            "[%] Downloading Image #9 from https://1.bp.blogspot.com/-GyxNqLxtMzw/XzR2hwlC87I/AAAAAAAAS20/LJOZmXi00B8OPiFtq0PWEh_yqXNB9_H4wCNcBGAsYHQ/s900/1.jpg\n",
            "[%] File Downloaded !\n",
            "\n",
            "[%] Downloading Image #10 from https://img0.yna.co.kr/photo/cms/2019/07/02/35/PCM20190702000035990_P4.jpg\n",
            "[!] Issue getting: https://img0.yna.co.kr/photo/cms/2019/07/02/35/PCM20190702000035990_P4.jpg\n",
            "[!] Error:: <urlopen error [SSL: UNSAFE_LEGACY_RENEGOTIATION_DISABLED] unsafe legacy renegotiation disabled (_ssl.c:1007)>\n",
            "[%] Downloading Image #10 from http://cfile205.uf.daum.net/image/2115F233524D0D36043B29\n",
            "[%] File Downloaded !\n",
            "\n",
            "[%] Downloading Image #11 from https://jewishaction.com/content/uploads/apples-getty-images.jpg\n",
            "[%] File Downloaded !\n",
            "\n",
            "[%] Downloading Image #12 from https://www.cyso.co.kr/data/item/1615268011/67aA7IKs66mU7J241.jpg\n",
            "[%] File Downloaded !\n",
            "\n",
            "[%] Downloading Image #13 from http://shop.biumfood.com/upload/1535360125_5131861.jpg\n",
            "[%] File Downloaded !\n",
            "\n",
            "[%] Downloading Image #14 from https://www.miniapplefarm.com/upload/goods/10000_img.jpg?PHPSESSID=33a75347ca505529a128b0b748f8c3c4\n",
            "[%] File Downloaded !\n",
            "\n",
            "[%] Downloading Image #15 from https://image.homeplus.kr/td/f5d7da53-3649-4f5a-b4c2-01cdafc290e3\n",
            "[%] File Downloaded !\n",
            "\n",
            "[%] Downloading Image #16 from https://w7.pngwing.com/pngs/110/1011/png-transparent-bite-the-apple-eat-apples-sweet-crisp-water-droplets.png\n",
            "[%] File Downloaded !\n",
            "\n",
            "[%] Downloading Image #17 from http://blogfiles.naver.net/20150930_134/isuue_14436134139484cAL2_PNG/002_%BF%F8%BA%BB.png\n",
            "[%] File Downloaded !\n",
            "\n",
            "[%] Downloading Image #18 from https://vegconom.de/vegconomistcom/wp-content/uploads/sites/3/appleskin-leather-adobe-scaled.jpeg\n",
            "[%] File Downloaded !\n",
            "\n",
            "[%] Downloading Image #19 from http://cfile1.uf.tistory.com/image/1759104C4F72CE7A29DF4F\n",
            "[!] Issue getting: http://cfile1.uf.tistory.com/image/1759104C4F72CE7A29DF4F\n",
            "[!] Error:: HTTP Error 404: Not Found\n",
            "[%] Downloading Image #19 from http://cfile219.uf.daum.net/image/244F754C5502704624DA90\n",
            "[%] File Downloaded !\n",
            "\n",
            "[%] Downloading Image #20 from https://vignette.wikia.nocookie.net/nutri/images/b/b3/각종_사과_종류.png/revision/latest?cb=20170502144553&amp;path-prefix=ko\n",
            "[!] Issue getting: https://vignette.wikia.nocookie.net/nutri/images/b/b3/각종_사과_종류.png/revision/latest?cb=20170502144553&amp;path-prefix=ko\n",
            "[!] Error:: 'ascii' codec can't encode characters in position 23-24: ordinal not in range(128)\n",
            "[%] Downloading Image #20 from https://static.megamart.com/product/image/1157/11570998/11570998_6_960.jpg\n",
            "[%] File Downloaded !\n",
            "\n",
            "[%] Downloading Image #21 from https://www.cyso.co.kr/data/item/1633318819/64yA7ZGc1.jpg\n",
            "[%] File Downloaded !\n",
            "\n",
            "[%] Downloading Image #22 from http://cfile23.uf.tistory.com/image/115A76494F87F0FD0C489B\n",
            "[%] File Downloaded !\n",
            "\n",
            "[%] Downloading Image #23 from http://onkweather.kweather.co.kr/data/cheditor4/1209/q8s7SR3Ld1JrXO.JPG\n",
            "[%] File Downloaded !\n",
            "\n",
            "[%] Downloading Image #24 from https://daseorim.blogpay.io/img/g/daseorim/16480134122966.jpg\n",
            "[%] File Downloaded !\n",
            "\n",
            "[%] Downloading Image #25 from https://get.pxhere.com/photo/apple-plant-fruit-food-produce-kitchen-healthy-eat-cook-nutrition-pulp-sale-vitamins-bless-you-sour-apple-tree-bio-flowering-plant-rose-family-nectarine-bio-apple-royal-gala-land-plant-rose-order-pluot-baked-apple-chalkboard-apple-bearing-apple-1177264.jpg\n",
            "[%] File Downloaded !\n",
            "\n",
            "[%] Downloading Image #26 from https://yt3.ggpht.com/a/AATXAJzyITR55B_GDCNd_MP0D6BDhxxzOD-DILGcSA=s900-c-k-c0xffffffff-no-rj-mo\n",
            "[%] File Downloaded !\n",
            "\n",
            "\n",
            "\n",
            "[!!]Indexing page: 2\n",
            "\n",
            "[%] Indexed 35 Images on Page 2.\n",
            "\n",
            "===============================================\n",
            "\n",
            "[%] Downloading Image #27 from https://cdn.imweb.me/upload/S201804055ac60211e0c1d/5bdd0dc284be0.jpg\n",
            "[%] File Downloaded !\n",
            "\n",
            "[%] Downloading Image #28 from https://img.lovepik.com/free-png/20210923/lovepik-red-apple-png-image_401223081_wh1200.png\n",
            "[%] File Downloaded !\n",
            "\n",
            "[%] Downloading Image #29 from https://dnvefa72aowie.cloudfront.net/business-profile/bizPlatform/profile/14734057/1682556580898/MkVGOUU5M0EtODJGNC00REQyLUE0QzItRDRDMTc5NTQ3Mjg5LmpwZWc=.jpeg?q=95&amp;s=1440x1440&amp;t=inside\n",
            "[%] File Downloaded !\n",
            "\n",
            "[%] Downloading Image #30 from https://www.wadiz.kr/ft/images/green001/2021/0811/20210811094513826_83.jpg\n",
            "[%] File Downloaded !\n",
            "\n",
            "\n",
            "\n",
            "[%] Done. Downloaded 30 images.\n"
          ]
        }
      ]
    },
    {
      "cell_type": "code",
      "source": [
        "import shutil\n",
        "\n",
        "def compress_folder(folder_path, output_path):\n",
        "    shutil.make_archive(output_path, 'zip', folder_path)\n",
        "\n",
        "# 이미지 저장 폴더 압축\n",
        "folder_path = \"images\"\n",
        "output_path = \"images\"\n",
        "compress_folder(folder_path, output_path)\n"
      ],
      "metadata": {
        "id": "bFc8PGzR8KlE"
      },
      "execution_count": 8,
      "outputs": []
    }
  ]
}